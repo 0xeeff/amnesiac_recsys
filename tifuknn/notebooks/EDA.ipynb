{
 "cells": [
  {
   "cell_type": "markdown",
   "id": "defensive-tackle",
   "metadata": {
    "toc": true
   },
   "source": [
    "<h1>Table of Contents<span class=\"tocSkip\"></span></h1>\n",
    "<div class=\"toc\"><ul class=\"toc-item\"><li><span><a href=\"#TaFeng\" data-toc-modified-id=\"TaFeng-1\"><span class=\"toc-item-num\">1&nbsp;&nbsp;</span>TaFeng</a></span></li><li><span><a href=\"#Instacart\" data-toc-modified-id=\"Instacart-2\"><span class=\"toc-item-num\">2&nbsp;&nbsp;</span>Instacart</a></span></li><li><span><a href=\"#ValuedShopper\" data-toc-modified-id=\"ValuedShopper-3\"><span class=\"toc-item-num\">3&nbsp;&nbsp;</span>ValuedShopper</a></span></li></ul></div>"
   ]
  },
  {
   "cell_type": "code",
   "execution_count": 23,
   "id": "second-spider",
   "metadata": {},
   "outputs": [],
   "source": [
    "import pandas as pd\n",
    "import matplotlib.pyplot as plt \n",
    "import numpy as np\n",
    "# we have 3 datasets: TaFeng, Instacart, ValuedShopper\n",
    "# sebastian academic style settings\n",
    "plt.rcParams['pdf.fonttype'] = 42\n",
    "plt.rc('text', usetex=True)\n",
    "plt.rcParams['font.sans-serif'] = \"Arial\"\n",
    "plt.rcParams['font.family'] = \"sans-serif\"\n",
    "plt.rcParams['legend.fontsize'] = 16\n",
    "\n",
    "plt.rcParams['lines.markersize'] = 2\n",
    "plt.rc('axes', labelsize=28) \n",
    "plt.rc('xtick', labelsize=22) \n",
    "plt.rc('ytick', labelsize=22)\n",
    "plt.rc('savefig', dpi=300)"
   ]
  },
  {
   "cell_type": "markdown",
   "id": "assigned-vocabulary",
   "metadata": {},
   "source": [
    "# TaFeng"
   ]
  },
  {
   "cell_type": "code",
   "execution_count": 24,
   "id": "brave-flooring",
   "metadata": {},
   "outputs": [
    {
     "data": {
      "text/html": [
       "<div>\n",
       "<style scoped>\n",
       "    .dataframe tbody tr th:only-of-type {\n",
       "        vertical-align: middle;\n",
       "    }\n",
       "\n",
       "    .dataframe tbody tr th {\n",
       "        vertical-align: top;\n",
       "    }\n",
       "\n",
       "    .dataframe thead th {\n",
       "        text-align: right;\n",
       "    }\n",
       "</style>\n",
       "<table border=\"1\" class=\"dataframe\">\n",
       "  <thead>\n",
       "    <tr style=\"text-align: right;\">\n",
       "      <th></th>\n",
       "      <th>CUSTOMER_ID</th>\n",
       "      <th>ORDER_NUMBER</th>\n",
       "      <th>MATERIAL_NUMBER</th>\n",
       "    </tr>\n",
       "  </thead>\n",
       "  <tbody>\n",
       "    <tr>\n",
       "      <th>0</th>\n",
       "      <td>1</td>\n",
       "      <td>1</td>\n",
       "      <td>1</td>\n",
       "    </tr>\n",
       "    <tr>\n",
       "      <th>1</th>\n",
       "      <td>1</td>\n",
       "      <td>1</td>\n",
       "      <td>2</td>\n",
       "    </tr>\n",
       "    <tr>\n",
       "      <th>2</th>\n",
       "      <td>1</td>\n",
       "      <td>1</td>\n",
       "      <td>3</td>\n",
       "    </tr>\n",
       "    <tr>\n",
       "      <th>3</th>\n",
       "      <td>1</td>\n",
       "      <td>2</td>\n",
       "      <td>4</td>\n",
       "    </tr>\n",
       "    <tr>\n",
       "      <th>4</th>\n",
       "      <td>1</td>\n",
       "      <td>2</td>\n",
       "      <td>5</td>\n",
       "    </tr>\n",
       "    <tr>\n",
       "      <th>...</th>\n",
       "      <td>...</td>\n",
       "      <td>...</td>\n",
       "      <td>...</td>\n",
       "    </tr>\n",
       "    <tr>\n",
       "      <th>494012</th>\n",
       "      <td>13948</td>\n",
       "      <td>2</td>\n",
       "      <td>1218</td>\n",
       "    </tr>\n",
       "    <tr>\n",
       "      <th>494013</th>\n",
       "      <td>13949</td>\n",
       "      <td>1</td>\n",
       "      <td>3571</td>\n",
       "    </tr>\n",
       "    <tr>\n",
       "      <th>494014</th>\n",
       "      <td>13949</td>\n",
       "      <td>1</td>\n",
       "      <td>299</td>\n",
       "    </tr>\n",
       "    <tr>\n",
       "      <th>494015</th>\n",
       "      <td>13949</td>\n",
       "      <td>1</td>\n",
       "      <td>41</td>\n",
       "    </tr>\n",
       "    <tr>\n",
       "      <th>494016</th>\n",
       "      <td>13949</td>\n",
       "      <td>2</td>\n",
       "      <td>172</td>\n",
       "    </tr>\n",
       "  </tbody>\n",
       "</table>\n",
       "<p>494017 rows × 3 columns</p>\n",
       "</div>"
      ],
      "text/plain": [
       "        CUSTOMER_ID  ORDER_NUMBER  MATERIAL_NUMBER\n",
       "0                 1             1                1\n",
       "1                 1             1                2\n",
       "2                 1             1                3\n",
       "3                 1             2                4\n",
       "4                 1             2                5\n",
       "...             ...           ...              ...\n",
       "494012        13948             2             1218\n",
       "494013        13949             1             3571\n",
       "494014        13949             1              299\n",
       "494015        13949             1               41\n",
       "494016        13949             2              172\n",
       "\n",
       "[494017 rows x 3 columns]"
      ]
     },
     "execution_count": 24,
     "metadata": {},
     "output_type": "execute_result"
    }
   ],
   "source": [
    "hist_file = \"../data/TaFang_history_NB.csv\"\n",
    "future_file = \"../data/TaFang_future_NB.csv\"\n",
    "\n",
    "hist_df = pd.read_csv(hist_file)\n",
    "future_df = pd.read_csv(future_file)\n",
    "hist_df"
   ]
  },
  {
   "cell_type": "code",
   "execution_count": 25,
   "id": "educated-jenny",
   "metadata": {},
   "outputs": [
    {
     "name": "stdout",
     "output_type": "stream",
     "text": [
      "num of customers: 13949\n",
      "num of items: 11997\n",
      "avg basket size: 6.220074789418682\n",
      "avg basket per user: 5.693813176571798\n",
      "number of baskets: 79423\n"
     ]
    }
   ],
   "source": [
    "num_customer = hist_df[\"CUSTOMER_ID\"].unique().size\n",
    "print(\"num of customers:\",num_customer)\n",
    "\n",
    "num_customer = hist_df[\"MATERIAL_NUMBER\"].unique().size\n",
    "print(\"num of items:\",num_customer)\n",
    "basket_size_series = hist_df.groupby([\"CUSTOMER_ID\", \"ORDER_NUMBER\"]).count()[\"MATERIAL_NUMBER\"]\n",
    "basket_size_avg = basket_size_series.mean()\n",
    "print(\"avg basket size:\", basket_size_avg)\n",
    "\n",
    "baskets_per_user_series = \\\n",
    "hist_df[[\"CUSTOMER_ID\", \"ORDER_NUMBER\"]].drop_duplicates().groupby([\"CUSTOMER_ID\"]).count()[\"ORDER_NUMBER\"]\n",
    "baskets_per_user_series\n",
    "print(\"avg basket per user:\", baskets_per_user_series.mean())\n",
    "\n",
    "print(\"number of baskets:\", hist_df[[\"CUSTOMER_ID\", \"ORDER_NUMBER\"]].drop_duplicates().shape[0])"
   ]
  },
  {
   "cell_type": "code",
   "execution_count": 26,
   "id": "noticed-trouble",
   "metadata": {},
   "outputs": [
    {
     "name": "stdout",
     "output_type": "stream",
     "text": [
      "number of records in ../data/TaFang_history_NB.csv: 494017\n",
      "customers: 13949, unique items: 11997\n"
     ]
    }
   ],
   "source": [
    "# what is the percentage of baskets with repeated purchases?\n",
    "import sys\n",
    "sys.path.append(\"..\") # Adds higher directory to python modules path.\n",
    "\n",
    "from dataset import Dataset\n",
    "dataset = Dataset()\n",
    "# loading real data\n",
    "dataset.load_from_file(hist_file)\n",
    "# convert baskets to one hot encoded\n",
    "\n",
    "dataset.vectorize(vocabulary=dataset.item_ids)\n",
    "\n",
    "print(dataset)\n"
   ]
  },
  {
   "cell_type": "code",
   "execution_count": 30,
   "id": "difficult-clear",
   "metadata": {},
   "outputs": [
    {
     "name": "stdout",
     "output_type": "stream",
     "text": [
      "percentage: 0.3630938141344447\n",
      "average repeat distance: 2.816006657881961\n"
     ]
    },
    {
     "data": {
      "image/png": "[encoded data removed]",
      "text/plain": [
       "<Figure size 576x288 with 1 Axes>"
      ]
     },
     "metadata": {
      "needs_background": "light"
     },
     "output_type": "display_data"
    }
   ],
   "source": [
    "# plt.style.use('./plt_style.txt')\n",
    "count_of_baskets_with_repeat = 0\n",
    "count_of_all_baskets = 0\n",
    "repeat_distance = []\n",
    "for customerId, baskets in dataset.customer_baskets.items():\n",
    "    customerVocab = set()\n",
    "    for idx, (orderId, basket) in enumerate(baskets):\n",
    "        hasRepeat = False\n",
    "        distance = []\n",
    "        for itemId in basket:\n",
    "            if itemId in customerVocab:\n",
    "                hasRepeat = True\n",
    "                # find the closest repeat place\n",
    "                for backIdx in range(idx-1, -1, -1):\n",
    "                    thisCustomerBasket = baskets[backIdx]\n",
    "                    if itemId in thisCustomerBasket[1]:\n",
    "                        distance.append(idx - backIdx)\n",
    "        # we choose the minimal distance to represent\n",
    "        if distance:\n",
    "            repeat_distance.append(min(distance))              \n",
    "        if hasRepeat:\n",
    "            # this basket has repeated item\n",
    "            count_of_baskets_with_repeat += 1\n",
    "        count_of_all_baskets += 1\n",
    "        customerVocab.update(basket)\n",
    "\n",
    "print(\"percentage:\", count_of_baskets_with_repeat/count_of_all_baskets)\n",
    "print(\"average repeat distance:\", np.mean(repeat_distance))  \n",
    "\n",
    "\n",
    "fig = plt.figure(figsize=(8,4))\n",
    "ax = plt.subplot()\n",
    "\n",
    "import matplotlib.ticker as ticker\n",
    "ax.yaxis.set_major_formatter(ticker.PercentFormatter(len(repeat_distance)))\n",
    "\n",
    "plt.hist(repeat_distance, bins=np.arange(min(repeat_distance), max(repeat_distance)+1)-0.5);\n",
    "ax.set_xlim([1,15])\n",
    "# ax.set_title(\"TaFeng: repeat distance\");\n",
    "ax.set_xlabel(\"repeat distance\")\n",
    "ax.set_ylabel(\"baskets percentage\")\n",
    "ax.set_xlim([0,10])\n",
    "plt.tight_layout()\n",
    "fig.savefig(\"../artifacts/Tafeng_repeat_dist.pdf\", bbox_inches='tight')"
   ]
  },
  {
   "cell_type": "code",
   "execution_count": 29,
   "id": "annoying-force",
   "metadata": {},
   "outputs": [
    {
     "data": {
      "image/png": "[encoded data removed]",
      "text/plain": [
       "<Figure size 576x288 with 1 Axes>"
      ]
     },
     "metadata": {
      "needs_background": "light"
     },
     "output_type": "display_data"
    },
    {
     "data": {
      "image/png": "[encoded data removed]",
      "text/plain": [
       "<Figure size 576x288 with 1 Axes>"
      ]
     },
     "metadata": {
      "needs_background": "light"
     },
     "output_type": "display_data"
    }
   ],
   "source": [
    "# plt.rc('font', family='serif')\n",
    "# plt.rc('xtick', labelsize='x-small')\n",
    "# plt.rc('ytick', labelsize='x-small')\n",
    "\n",
    "fig = plt.figure(figsize=(8,4))\n",
    "\n",
    "ax = plt.subplot()\n",
    "ax.hist(basket_size_series, bins=40);\n",
    "# ax.set_title(\"TaFeng: basket size\")\n",
    "ax.set_xlabel(\"basket size\")\n",
    "ax.set_ylabel(\"\\#baskets\")\n",
    "ax.set_xlim([0,60])\n",
    "plt.tight_layout()\n",
    "fig.savefig(\"../artifacts/Tafeng_basket_dist.pdf\", bbox_inches='tight')\n",
    "\n",
    "fig = plt.figure(figsize=(8,4))\n",
    "ax = plt.subplot()\n",
    "ax.hist(baskets_per_user_series, bins=40);\n",
    "# ax.set_title(\"TaFeng: number of baskets\");\n",
    "ax.set_xlabel(\"\\#baskets\")\n",
    "ax.set_ylabel(\"\\#users\")\n",
    "ax.set_xlim([0,60])\n",
    "plt.tight_layout()\n",
    "fig.savefig(\"../artifacts/Tafeng_basket_per_user_dist.pdf\", bbox_inches='tight')\n"
   ]
  },
  {
   "cell_type": "markdown",
   "id": "impaired-making",
   "metadata": {},
   "source": [
    "# Instacart"
   ]
  },
  {
   "cell_type": "code",
   "execution_count": 9,
   "id": "static-ladder",
   "metadata": {},
   "outputs": [
    {
     "data": {
      "text/html": [
       "<div>\n",
       "<style scoped>\n",
       "    .dataframe tbody tr th:only-of-type {\n",
       "        vertical-align: middle;\n",
       "    }\n",
       "\n",
       "    .dataframe tbody tr th {\n",
       "        vertical-align: top;\n",
       "    }\n",
       "\n",
       "    .dataframe thead th {\n",
       "        text-align: right;\n",
       "    }\n",
       "</style>\n",
       "<table border=\"1\" class=\"dataframe\">\n",
       "  <thead>\n",
       "    <tr style=\"text-align: right;\">\n",
       "      <th></th>\n",
       "      <th>CUSTOMER_ID</th>\n",
       "      <th>ORDER_NUMBER</th>\n",
       "      <th>MATERIAL_NUMBER</th>\n",
       "    </tr>\n",
       "  </thead>\n",
       "  <tbody>\n",
       "    <tr>\n",
       "      <th>0</th>\n",
       "      <td>1</td>\n",
       "      <td>1</td>\n",
       "      <td>1</td>\n",
       "    </tr>\n",
       "    <tr>\n",
       "      <th>1</th>\n",
       "      <td>1</td>\n",
       "      <td>1</td>\n",
       "      <td>2</td>\n",
       "    </tr>\n",
       "    <tr>\n",
       "      <th>2</th>\n",
       "      <td>1</td>\n",
       "      <td>1</td>\n",
       "      <td>3</td>\n",
       "    </tr>\n",
       "    <tr>\n",
       "      <th>3</th>\n",
       "      <td>1</td>\n",
       "      <td>1</td>\n",
       "      <td>4</td>\n",
       "    </tr>\n",
       "    <tr>\n",
       "      <th>4</th>\n",
       "      <td>1</td>\n",
       "      <td>1</td>\n",
       "      <td>5</td>\n",
       "    </tr>\n",
       "    <tr>\n",
       "      <th>...</th>\n",
       "      <td>...</td>\n",
       "      <td>...</td>\n",
       "      <td>...</td>\n",
       "    </tr>\n",
       "    <tr>\n",
       "      <th>1411001</th>\n",
       "      <td>19935</td>\n",
       "      <td>50</td>\n",
       "      <td>507</td>\n",
       "    </tr>\n",
       "    <tr>\n",
       "      <th>1411002</th>\n",
       "      <td>19935</td>\n",
       "      <td>50</td>\n",
       "      <td>30</td>\n",
       "    </tr>\n",
       "    <tr>\n",
       "      <th>1411003</th>\n",
       "      <td>19935</td>\n",
       "      <td>50</td>\n",
       "      <td>4984</td>\n",
       "    </tr>\n",
       "    <tr>\n",
       "      <th>1411004</th>\n",
       "      <td>19935</td>\n",
       "      <td>50</td>\n",
       "      <td>7</td>\n",
       "    </tr>\n",
       "    <tr>\n",
       "      <th>1411005</th>\n",
       "      <td>19935</td>\n",
       "      <td>50</td>\n",
       "      <td>2826</td>\n",
       "    </tr>\n",
       "  </tbody>\n",
       "</table>\n",
       "<p>1411006 rows × 3 columns</p>\n",
       "</div>"
      ],
      "text/plain": [
       "         CUSTOMER_ID  ORDER_NUMBER  MATERIAL_NUMBER\n",
       "0                  1             1                1\n",
       "1                  1             1                2\n",
       "2                  1             1                3\n",
       "3                  1             1                4\n",
       "4                  1             1                5\n",
       "...              ...           ...              ...\n",
       "1411001        19935            50              507\n",
       "1411002        19935            50               30\n",
       "1411003        19935            50             4984\n",
       "1411004        19935            50                7\n",
       "1411005        19935            50             2826\n",
       "\n",
       "[1411006 rows x 3 columns]"
      ]
     },
     "execution_count": 9,
     "metadata": {},
     "output_type": "execute_result"
    }
   ],
   "source": [
    "hist_file = \"../data/Instacart_history.csv\"\n",
    "future_file = \"../data/Instacart_future.csv\"\n",
    "\n",
    "hist_df = pd.read_csv(hist_file)\n",
    "future_df = pd.read_csv(future_file)\n",
    "hist_df"
   ]
  },
  {
   "cell_type": "code",
   "execution_count": 10,
   "id": "chicken-serial",
   "metadata": {},
   "outputs": [
    {
     "name": "stdout",
     "output_type": "stream",
     "text": [
      "num of customers: 19935\n",
      "num of items: 7999\n",
      "avg basket size: 8.877992613239542\n",
      "avg basket per user: 7.97256082267369\n",
      "number of baskets: 158933\n"
     ]
    }
   ],
   "source": [
    "num_customer = hist_df[\"CUSTOMER_ID\"].unique().size\n",
    "print(\"num of customers:\",num_customer)\n",
    "\n",
    "num_customer = hist_df[\"MATERIAL_NUMBER\"].unique().size\n",
    "print(\"num of items:\",num_customer)\n",
    "basket_size_series = hist_df.groupby([\"CUSTOMER_ID\", \"ORDER_NUMBER\"]).count()[\"MATERIAL_NUMBER\"]\n",
    "basket_size_avg = basket_size_series.mean()\n",
    "print(\"avg basket size:\", basket_size_avg)\n",
    "\n",
    "baskets_per_user_series = \\\n",
    "hist_df[[\"CUSTOMER_ID\", \"ORDER_NUMBER\"]].drop_duplicates().groupby([\"CUSTOMER_ID\"]).count()[\"ORDER_NUMBER\"]\n",
    "baskets_per_user_series\n",
    "print(\"avg basket per user:\", baskets_per_user_series.mean())\n",
    "\n",
    "print(\"number of baskets:\", hist_df[[\"CUSTOMER_ID\", \"ORDER_NUMBER\"]].drop_duplicates().shape[0])"
   ]
  },
  {
   "cell_type": "code",
   "execution_count": 11,
   "id": "provincial-residence",
   "metadata": {},
   "outputs": [
    {
     "name": "stdout",
     "output_type": "stream",
     "text": [
      "number of records in ../data/Instacart_history.csv: 1411006\n",
      "customers: 19935, unique items: 7999\n"
     ]
    }
   ],
   "source": [
    "# what is the percentage of baskets with repeated purchases?\n",
    "import sys\n",
    "sys.path.append(\"..\") # Adds higher directory to python modules path.\n",
    "\n",
    "from dataset import Dataset\n",
    "dataset = Dataset()\n",
    "# loading real data\n",
    "dataset.load_from_file(hist_file)\n",
    "# convert baskets to one hot encoded\n",
    "\n",
    "dataset.vectorize(vocabulary=dataset.item_ids)\n",
    "\n",
    "print(dataset)\n"
   ]
  },
  {
   "cell_type": "code",
   "execution_count": 12,
   "id": "instant-concentration",
   "metadata": {},
   "outputs": [
    {
     "name": "stdout",
     "output_type": "stream",
     "text": [
      "percentage: 0.7955805276437241\n",
      "average repeat distance: 1.3751542184682548\n"
     ]
    },
    {
     "data": {
      "image/png": "[encoded data removed]",
      "text/plain": [
       "<Figure size 576x288 with 1 Axes>"
      ]
     },
     "metadata": {
      "needs_background": "light"
     },
     "output_type": "display_data"
    }
   ],
   "source": [
    "count_of_baskets_with_repeat = 0\n",
    "count_of_all_baskets = 0\n",
    "repeat_distance = []\n",
    "for customerId, baskets in dataset.customer_baskets.items():\n",
    "    customerVocab = set()\n",
    "    for idx, (orderId, basket) in enumerate(baskets):\n",
    "        hasRepeat = False\n",
    "        distance = []\n",
    "        for itemId in basket:\n",
    "            if itemId in customerVocab:\n",
    "                hasRepeat = True\n",
    "                # find the closest repeat place\n",
    "                for backIdx in range(idx-1, -1, -1):\n",
    "                    thisCustomerBasket = baskets[backIdx]\n",
    "                    if itemId in thisCustomerBasket[1]:\n",
    "                        distance.append(idx - backIdx)\n",
    "        # we choose the minimal distance to represent\n",
    "        if distance:\n",
    "            repeat_distance.append(min(distance))              \n",
    "        if hasRepeat:\n",
    "            # this basket has repeated item\n",
    "            count_of_baskets_with_repeat += 1\n",
    "        count_of_all_baskets += 1\n",
    "        customerVocab.update(basket)\n",
    "\n",
    "print(\"percentage:\", count_of_baskets_with_repeat/count_of_all_baskets)\n",
    "print(\"average repeat distance:\", np.mean(repeat_distance))  \n",
    "\n",
    "fig = plt.figure(figsize=(8,4))\n",
    "ax = plt.subplot()\n",
    "\n",
    "import matplotlib.ticker as ticker\n",
    "ax.yaxis.set_major_formatter(ticker.PercentFormatter(len(repeat_distance)))\n",
    "\n",
    "plt.hist(repeat_distance, bins=np.arange(min(repeat_distance), max(repeat_distance)+1)-0.5);\n",
    "ax.set_xlim([1,15])\n",
    "# ax.set_title(\"Instacart: repeat distance\");\n",
    "ax.set_xlabel(\"repeat distance\")\n",
    "# ax.set_ylabel(\"percentage of baskets\")\n",
    "ax.set_xlim([0,10])\n",
    "ax.set_ylabel(\"baskets percentage\")\n",
    "# ax.set_xlim([0,20])\n",
    "plt.tight_layout()\n",
    "fig.savefig(\"../artifacts/Instacart_repeat_dist.pdf\", bbox_inches='tight')"
   ]
  },
  {
   "cell_type": "code",
   "execution_count": 16,
   "id": "efficient-single",
   "metadata": {},
   "outputs": [
    {
     "data": {
      "image/png": "[encoded data removed]",
      "text/plain": [
       "<Figure size 576x288 with 1 Axes>"
      ]
     },
     "metadata": {
      "needs_background": "light"
     },
     "output_type": "display_data"
    },
    {
     "data": {
      "image/png": "[encoded data removed]",
      "text/plain": [
       "<Figure size 576x288 with 1 Axes>"
      ]
     },
     "metadata": {
      "needs_background": "light"
     },
     "output_type": "display_data"
    }
   ],
   "source": [
    "fig = plt.figure(figsize=(8,4))\n",
    "ax = plt.subplot()\n",
    "ax.hist(basket_size_series, bins=40);\n",
    "# ax.set_title(\"Instacart: basket size\")\n",
    "ax.set_xlabel(\"basket size\")\n",
    "ax.set_ylabel(\"\\#baskets\")\n",
    "ax.set_xlim([0,60])\n",
    "plt.tight_layout()\n",
    "\n",
    "fig.savefig(\"../artifacts/IS_basket_dist.pdf\", bbox_inches='tight')\n",
    "\n",
    "fig = plt.figure(figsize=(8,4))\n",
    "ax = plt.subplot()\n",
    "ax.hist(baskets_per_user_series, bins=40);\n",
    "# ax.set_title(\"Instacart: number of baskets\");\n",
    "ax.set_xlabel(\"\\#baskets\")\n",
    "ax.set_ylabel(\"\\#users\")\n",
    "\n",
    "plt.tight_layout()\n",
    "\n",
    "fig.savefig(\"../artifacts/IS_basket_per_user_dist.pdf\", bbox_inches='tight')\n"
   ]
  },
  {
   "cell_type": "markdown",
   "id": "adjustable-arrival",
   "metadata": {},
   "source": [
    "# ValuedShopper"
   ]
  },
  {
   "cell_type": "code",
   "execution_count": 17,
   "id": "brilliant-migration",
   "metadata": {},
   "outputs": [
    {
     "data": {
      "text/html": [
       "<div>\n",
       "<style scoped>\n",
       "    .dataframe tbody tr th:only-of-type {\n",
       "        vertical-align: middle;\n",
       "    }\n",
       "\n",
       "    .dataframe tbody tr th {\n",
       "        vertical-align: top;\n",
       "    }\n",
       "\n",
       "    .dataframe thead th {\n",
       "        text-align: right;\n",
       "    }\n",
       "</style>\n",
       "<table border=\"1\" class=\"dataframe\">\n",
       "  <thead>\n",
       "    <tr style=\"text-align: right;\">\n",
       "      <th></th>\n",
       "      <th>CUSTOMER_ID</th>\n",
       "      <th>ORDER_NUMBER</th>\n",
       "      <th>MATERIAL_NUMBER</th>\n",
       "    </tr>\n",
       "  </thead>\n",
       "  <tbody>\n",
       "    <tr>\n",
       "      <th>0</th>\n",
       "      <td>1</td>\n",
       "      <td>1</td>\n",
       "      <td>1</td>\n",
       "    </tr>\n",
       "    <tr>\n",
       "      <th>1</th>\n",
       "      <td>1</td>\n",
       "      <td>1</td>\n",
       "      <td>2</td>\n",
       "    </tr>\n",
       "    <tr>\n",
       "      <th>2</th>\n",
       "      <td>1</td>\n",
       "      <td>1</td>\n",
       "      <td>3</td>\n",
       "    </tr>\n",
       "    <tr>\n",
       "      <th>3</th>\n",
       "      <td>1</td>\n",
       "      <td>1</td>\n",
       "      <td>4</td>\n",
       "    </tr>\n",
       "    <tr>\n",
       "      <th>4</th>\n",
       "      <td>1</td>\n",
       "      <td>1</td>\n",
       "      <td>3</td>\n",
       "    </tr>\n",
       "    <tr>\n",
       "      <th>...</th>\n",
       "      <td>...</td>\n",
       "      <td>...</td>\n",
       "      <td>...</td>\n",
       "    </tr>\n",
       "    <tr>\n",
       "      <th>5189951</th>\n",
       "      <td>10000</td>\n",
       "      <td>79</td>\n",
       "      <td>3463</td>\n",
       "    </tr>\n",
       "    <tr>\n",
       "      <th>5189952</th>\n",
       "      <td>10000</td>\n",
       "      <td>79</td>\n",
       "      <td>1067</td>\n",
       "    </tr>\n",
       "    <tr>\n",
       "      <th>5189953</th>\n",
       "      <td>10000</td>\n",
       "      <td>79</td>\n",
       "      <td>1386</td>\n",
       "    </tr>\n",
       "    <tr>\n",
       "      <th>5189954</th>\n",
       "      <td>10000</td>\n",
       "      <td>79</td>\n",
       "      <td>1377</td>\n",
       "    </tr>\n",
       "    <tr>\n",
       "      <th>5189955</th>\n",
       "      <td>10000</td>\n",
       "      <td>79</td>\n",
       "      <td>148</td>\n",
       "    </tr>\n",
       "  </tbody>\n",
       "</table>\n",
       "<p>5189956 rows × 3 columns</p>\n",
       "</div>"
      ],
      "text/plain": [
       "         CUSTOMER_ID  ORDER_NUMBER  MATERIAL_NUMBER\n",
       "0                  1             1                1\n",
       "1                  1             1                2\n",
       "2                  1             1                3\n",
       "3                  1             1                4\n",
       "4                  1             1                3\n",
       "...              ...           ...              ...\n",
       "5189951        10000            79             3463\n",
       "5189952        10000            79             1067\n",
       "5189953        10000            79             1386\n",
       "5189954        10000            79             1377\n",
       "5189955        10000            79              148\n",
       "\n",
       "[5189956 rows x 3 columns]"
      ]
     },
     "execution_count": 17,
     "metadata": {},
     "output_type": "execute_result"
    }
   ],
   "source": [
    "hist_file = \"../data/VS_history_order.csv\"\n",
    "future_file = \"../data/VS_future_order.csv\"\n",
    "\n",
    "hist_df = pd.read_csv(hist_file)\n",
    "future_df = pd.read_csv(future_file)\n",
    "hist_df"
   ]
  },
  {
   "cell_type": "code",
   "execution_count": 18,
   "id": "growing-husband",
   "metadata": {},
   "outputs": [
    {
     "name": "stdout",
     "output_type": "stream",
     "text": [
      "num of customers: 10000\n",
      "num of items: 7874\n",
      "avg basket size: 9.128038088336941\n",
      "avg basket per user: 56.8573\n",
      "number of baskets: 568573\n"
     ]
    }
   ],
   "source": [
    "num_customer = hist_df[\"CUSTOMER_ID\"].unique().size\n",
    "print(\"num of customers:\",num_customer)\n",
    "\n",
    "num_customer = hist_df[\"MATERIAL_NUMBER\"].unique().size\n",
    "print(\"num of items:\",num_customer)\n",
    "basket_size_series = hist_df.groupby([\"CUSTOMER_ID\", \"ORDER_NUMBER\"]).count()[\"MATERIAL_NUMBER\"]\n",
    "basket_size_avg = basket_size_series.mean()\n",
    "print(\"avg basket size:\", basket_size_avg)\n",
    "\n",
    "baskets_per_user_series = \\\n",
    "hist_df[[\"CUSTOMER_ID\", \"ORDER_NUMBER\"]].drop_duplicates().groupby([\"CUSTOMER_ID\"]).count()[\"ORDER_NUMBER\"]\n",
    "baskets_per_user_series\n",
    "print(\"avg basket per user:\", baskets_per_user_series.mean())\n",
    "print(\"number of baskets:\", hist_df[[\"CUSTOMER_ID\", \"ORDER_NUMBER\"]].drop_duplicates().shape[0])\n"
   ]
  },
  {
   "cell_type": "code",
   "execution_count": 19,
   "id": "nervous-attendance",
   "metadata": {},
   "outputs": [
    {
     "name": "stdout",
     "output_type": "stream",
     "text": [
      "number of records in ../data/VS_history_order.csv: 5189956\n",
      "customers: 10000, unique items: 7874\n"
     ]
    }
   ],
   "source": [
    "# what is the percentage of baskets with repeated purchases?\n",
    "import sys\n",
    "sys.path.append(\"..\") # Adds higher directory to python modules path.\n",
    "\n",
    "from dataset import Dataset\n",
    "dataset = Dataset()\n",
    "# loading real data\n",
    "dataset.load_from_file(hist_file)\n",
    "# convert baskets to one hot encoded\n",
    "\n",
    "dataset.vectorize(vocabulary=dataset.item_ids)\n",
    "\n",
    "print(dataset)\n"
   ]
  },
  {
   "cell_type": "code",
   "execution_count": 20,
   "id": "bacterial-democracy",
   "metadata": {},
   "outputs": [
    {
     "name": "stdout",
     "output_type": "stream",
     "text": [
      "percentage: 0.8534823144961157\n",
      "average repeat distance: 4.320685313446\n"
     ]
    },
    {
     "data": {
      "image/png": "[encoded data removed]",
      "text/plain": [
       "<Figure size 576x288 with 1 Axes>"
      ]
     },
     "metadata": {
      "needs_background": "light"
     },
     "output_type": "display_data"
    }
   ],
   "source": [
    "count_of_baskets_with_repeat = 0\n",
    "count_of_all_baskets = 0\n",
    "repeat_distance = []\n",
    "for customerId, baskets in dataset.customer_baskets.items():\n",
    "    customerVocab = set()\n",
    "    for idx, (orderId, basket) in enumerate(baskets):\n",
    "        hasRepeat = False\n",
    "        distance = []\n",
    "        for itemId in basket:\n",
    "            if itemId in customerVocab:\n",
    "                hasRepeat = True\n",
    "                # find the closest repeat place\n",
    "                for backIdx in range(idx-1, -1, -1):\n",
    "                    thisCustomerBasket = baskets[backIdx]\n",
    "                    if itemId in thisCustomerBasket[1]:\n",
    "                        distance.append(idx - backIdx)\n",
    "        # we choose the minimal distance to represent\n",
    "        if distance:\n",
    "            repeat_distance.append(min(distance))              \n",
    "        if hasRepeat:\n",
    "            # this basket has repeated item\n",
    "            count_of_baskets_with_repeat += 1\n",
    "        count_of_all_baskets += 1\n",
    "        customerVocab.update(basket)\n",
    "\n",
    "print(\"percentage:\", count_of_baskets_with_repeat/count_of_all_baskets)\n",
    "print(\"average repeat distance:\", np.mean(repeat_distance))  \n"
   ]
  },
  {
   "cell_type": "code",
   "execution_count": 21,
   "id": "scenic-strength",
   "metadata": {},
   "outputs": [
    {
     "data": {
      "image/png": "[encoded data removed]",
      "text/plain": [
       "<Figure size 576x288 with 1 Axes>"
      ]
     },
     "metadata": {
      "needs_background": "light"
     },
     "output_type": "display_data"
    }
   ],
   "source": [
    "fig = plt.figure(figsize=(8,4))\n",
    "ax = plt.subplot()\n",
    "\n",
    "import matplotlib.ticker as ticker\n",
    "ax.yaxis.set_major_formatter(ticker.PercentFormatter(len(repeat_distance)))\n",
    "\n",
    "plt.hist(repeat_distance, bins=np.arange(min(repeat_distance), max(repeat_distance)+1)-0.5);\n",
    "ax.set_xlim([1,15])\n",
    "# ax.set_title(\"ValuedShopper: repeat distance\");\n",
    "ax.set_xlabel(\"repeat distance\")\n",
    "ax.set_ylabel(\"baskets percentage\")\n",
    "ax.set_xlim([0,10])\n",
    "plt.tight_layout()\n",
    "fig.savefig(\"../artifacts/VS_repeat_dist.pdf\", bbox_inches='tight')"
   ]
  },
  {
   "cell_type": "code",
   "execution_count": 22,
   "id": "strange-prior",
   "metadata": {},
   "outputs": [
    {
     "data": {
      "image/png": "[encoded data removed]",
      "text/plain": [
       "<Figure size 576x288 with 1 Axes>"
      ]
     },
     "metadata": {
      "needs_background": "light"
     },
     "output_type": "display_data"
    },
    {
     "data": {
      "image/png": "[encoded data removed]",
      "text/plain": [
       "<Figure size 576x288 with 1 Axes>"
      ]
     },
     "metadata": {
      "needs_background": "light"
     },
     "output_type": "display_data"
    }
   ],
   "source": [
    "fig = plt.figure(figsize=(8,4))\n",
    "ax = plt.subplot()\n",
    "ax.hist(basket_size_series, bins=40);\n",
    "# ax.set_title(\"ValuedShopper: basket size\")\n",
    "ax.set_xlabel(\"basket size\")\n",
    "ax.set_ylabel(\"\\#baskets\")\n",
    "ax.set_xlim([0,60])\n",
    "fig.savefig(\"../artifacts/ValuedShopper_basket_dist.pdf\", bbox_inches='tight')\n",
    "\n",
    "fig = plt.figure(figsize=(8,4))\n",
    "ax = plt.subplot()\n",
    "ax.hist(baskets_per_user_series, bins=40);\n",
    "# ax.set_title(\"ValuedShopper: number of baskets\");\n",
    "ax.set_xlabel(\"\\#baskets\")\n",
    "ax.set_ylabel(\"\\#users\")\n",
    "plt.tight_layout()\n",
    "fig.savefig(\"../artifacts/ValuedShopper_basket_per_user_dist.pdf\", bbox_inches='tight')\n"
   ]
  }
 ],
 "metadata": {
  "kernelspec": {
   "display_name": "Python 3",
   "language": "python",
   "name": "python3"
  },
  "language_info": {
   "codemirror_mode": {
    "name": "ipython",
    "version": 3
   },
   "file_extension": ".py",
   "mimetype": "text/x-python",
   "name": "python",
   "nbconvert_exporter": "python",
   "pygments_lexer": "ipython3",
   "version": "3.7.0"
  },
  "toc": {
   "base_numbering": 1,
   "nav_menu": {},
   "number_sections": true,
   "sideBar": true,
   "skip_h1_title": false,
   "title_cell": "Table of Contents",
   "title_sidebar": "Contents",
   "toc_cell": true,
   "toc_position": {},
   "toc_section_display": true,
   "toc_window_display": true
  },
  "varInspector": {
   "cols": {
    "lenName": 16,
    "lenType": 16,
    "lenVar": 40
   },
   "kernels_config": {
    "python": {
     "delete_cmd_postfix": "",
     "delete_cmd_prefix": "del ",
     "library": "var_list.py",
     "varRefreshCmd": "print(var_dic_list())"
    },
    "r": {
     "delete_cmd_postfix": ") ",
     "delete_cmd_prefix": "rm(",
     "library": "var_list.r",
     "varRefreshCmd": "cat(var_dic_list()) "
    }
   },
   "types_to_exclude": [
    "module",
    "function",
    "builtin_function_or_method",
    "instance",
    "_Feature"
   ],
   "window_display": false
  }
 },
 "nbformat": 4,
 "nbformat_minor": 5
}
